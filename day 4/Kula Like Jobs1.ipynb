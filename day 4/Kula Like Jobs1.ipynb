{
 "cells": [
  {
   "cell_type": "code",
   "execution_count": 13,
   "metadata": {},
   "outputs": [],
   "source": [
    "import re\n",
    "import nltk\n",
    "from nltk.corpus import stopwords\n",
    "from nltk import FreqDist\n",
    "from wordcloud import WordCloud, STOPWORDS, ImageColorGenerator\n",
    "import pandas as pd\n",
    "import seaborn as sns\n",
    "\n",
    "import matplotlib.pyplot as plt\n",
    "%matplotlib inline"
   ]
  },
  {
   "cell_type": "code",
   "execution_count": 14,
   "metadata": {},
   "outputs": [],
   "source": [
    "df = pd.read_csv('Linkedin_Group_Members-03__Aug_2021-15_00_04.csv')"
   ]
  },
  {
   "cell_type": "code",
   "execution_count": 15,
   "metadata": {},
   "outputs": [],
   "source": [
    "job_list = ['Student', 'Full', 'Back', 'Front', 'Mobile', 'Hardware', 'Software', \n",
    "            'Web','BI', 'DBA', 'Analyst', 'UI','UX', 'Graphics', 'QA',\n",
    "            'HR', 'CEO', 'CTO', 'Founder']\n",
    "\n",
    "buzz_list = ['Data', 'AI', 'ML', \n",
    "        'Junior', 'Senior', 'Lead',\n",
    "        'Looking', 'Seeking']\n",
    "\n",
    "job_count = [df.occupation.str.count(job).sum() for job in job_list]\n",
    "buzz_count = [df.occupation.str.count(buzz).sum() for buzz in buzz_list]\n",
    "\n",
    "df_i = pd.DataFrame({'job':job_list,'count':job_count })\n",
    "df_i.sort_values(by='count', ascending=False, inplace=True)\n",
    "df_i.reset_index(inplace=True, drop=True)\n",
    "\n",
    "df_b = pd.DataFrame({'buzz_word':buzz_list,'count':buzz_count })\n",
    "df_b.sort_values(by='count', ascending=False, inplace=True)\n",
    "df_b.reset_index(inplace=True, drop=True)\n"
   ]
  },
  {
   "cell_type": "code",
   "execution_count": 16,
   "metadata": {},
   "outputs": [],
   "source": [
    "fig, ax = plt.subplots(figsize = (10, 5))\n",
    "plt.grid()\n",
    "plt.barh(width=df_i['count'], y=df_i['job'], color ='green', align='center')\n",
    " \n",
    "plt.xlabel(\"Count\")\n",
    "plt.ylabel(\"Term\")\n",
    "plt.title(\"Terms Included in Job Title\")\n",
    "\n",
    "ax.invert_yaxis()  # labels read top-to-bottom\n",
    "\n",
    "\n",
    "plt.savefig('top_terms_job.png', bbox_inches='tight')\n",
    "plt.close(fig)\n",
    "#plt.show()"
   ]
  },
  {
   "cell_type": "code",
   "execution_count": 17,
   "metadata": {},
   "outputs": [],
   "source": [
    "fig, ax = plt.subplots(figsize = (10, 5))\n",
    "plt.grid()\n",
    "plt.barh(width=df_b['count'], y=df_b['buzz_word'], color ='green', align='center')\n",
    " \n",
    "plt.xlabel(\"Count\")\n",
    "plt.ylabel(\"Buzz Word\")\n",
    "plt.title(\"Buzz Words Included in Job Title\")\n",
    "\n",
    "ax.invert_yaxis() \n",
    "\n",
    "plt.savefig('top_terms_buzz.png', bbox_inches='tight')\n",
    "plt.close(fig)\n",
    "#plt.show()"
   ]
  },
  {
   "cell_type": "code",
   "execution_count": null,
   "metadata": {},
   "outputs": [],
   "source": []
  },
  {
   "cell_type": "code",
   "execution_count": null,
   "metadata": {},
   "outputs": [],
   "source": []
  },
  {
   "cell_type": "code",
   "execution_count": null,
   "metadata": {},
   "outputs": [],
   "source": []
  },
  {
   "cell_type": "code",
   "execution_count": 22,
   "metadata": {},
   "outputs": [
    {
     "name": "stdout",
     "output_type": "stream",
     "text": [
      "There are 129559 words in the combination of all review.\n"
     ]
    }
   ],
   "source": [
    "fig, ax = plt.subplots(figsize = (7, 7))\n",
    "\n",
    "text = \" \".join(job for job in df.occupation)\n",
    "print (\"There are {} words in the combination of all review.\".format(len(text)))\n",
    "# Create stopword list:\n",
    "stopwords = set(STOPWORDS)\n",
    "#stopwords.update([\"drink\", \"now\", \"wine\", \"flavor\", \"flavors\"])\n",
    "\n",
    "# Generate a word cloud image\n",
    "wordcloud = WordCloud(stopwords=stopwords, background_color=\"white\").generate(text)\n",
    "\n",
    "# Display the generated image:\n",
    "# the matplotlib way:\n",
    "plt.axis(\"off\")\n",
    "\n",
    "\n",
    "plt.imshow(wordcloud, interpolation='bilinear')\n",
    "plt.savefig('top_terms_wc1.png', bbox_inches='tight')\n",
    "plt.close(fig)\n",
    "\n",
    "#plt.show()"
   ]
  },
  {
   "cell_type": "code",
   "execution_count": 23,
   "metadata": {},
   "outputs": [],
   "source": [
    "mylist = df[['occupation']].stack().values"
   ]
  },
  {
   "cell_type": "code",
   "execution_count": 32,
   "metadata": {},
   "outputs": [],
   "source": [
    "line = \" \".join(mylist)\n",
    "line = re.sub('[.@,\\-|/()\\'\\\"\\t!*;:_]', '', line)\n",
    "line = re.sub('[&]', ' ', line)\n",
    "line = str(line.encode('ascii', errors='ignore'))\n",
    "\n",
    "line = re.sub(' +', ' ', line)"
   ]
  },
  {
   "cell_type": "code",
   "execution_count": 26,
   "metadata": {},
   "outputs": [],
   "source": [
    "#Populate list of words that are no in the stopwords set\n",
    "tokenWithoutStopwords = []\n",
    "for word in line.split():\n",
    "    if word not in stopwords:\n",
    "        tokenWithoutStopwords.append(word.lower())\n",
    "\n",
    "stringWithoutStopwords = ' '.join(map(str, tokenWithoutStopwords))"
   ]
  },
  {
   "cell_type": "code",
   "execution_count": 29,
   "metadata": {},
   "outputs": [],
   "source": [
    "docSplit = stringWithoutStopwords.split()\n",
    "\n",
    "# Constructs a frequency distribution over the words in the document\n",
    "freq = nltk.FreqDist(w for w in docSplit)\n",
    "\n",
    "\n",
    "# Finds the top x most frequently used words in the document\n",
    "topWords = freq.most_common(30)\n",
    "\n"
   ]
  },
  {
   "cell_type": "code",
   "execution_count": 37,
   "metadata": {
    "scrolled": true
   },
   "outputs": [],
   "source": [
    "## Conversion to Pandas series via Python Dictionary for easier plotting\n",
    "all_fdist = pd.Series(dict(topWords))\n",
    "\n",
    "## Setting figure, ax into variables\n",
    "fig, ax = plt.subplots(figsize=(7,7))\n",
    "\n",
    "## Seaborn plotting using Pandas attributes + xtick rotation for ease of viewing\n",
    "all_plot = sns.barplot(y=all_fdist.index, x=all_fdist.values, palette=\"Blues_d\", ax=ax)\n",
    "plt.grid()\n",
    "plt.title('Count of Top Words in Titles')\n",
    "plt.savefig('top_words_word_count.png', bbox_inches='tight')\n",
    "plt.close(fig)\n",
    "\n",
    "#plt.show()"
   ]
  },
  {
   "cell_type": "code",
   "execution_count": null,
   "metadata": {},
   "outputs": [],
   "source": []
  },
  {
   "cell_type": "code",
   "execution_count": 36,
   "metadata": {},
   "outputs": [],
   "source": [
    "## Setting figure, ax into variables\n",
    "fig, ax = plt.subplots(figsize=(7,7))\n",
    "\n",
    "stopwords = set(STOPWORDS)\n",
    "\n",
    "# Generate a word cloud image\n",
    "wordcloud = WordCloud(stopwords=stopwords, background_color=\"white\", collocations=False).generate(stringWithoutStopwords)\n",
    "\n",
    "plt.axis(\"off\")\n",
    "#plt.tight_layout(pad=0)\n",
    "\n",
    "plt.imshow(wordcloud, interpolation='bilinear')\n",
    "plt.savefig('top_words_wc2_single_words.png', bbox_inches='tight')\n",
    "plt.close(fig)\n",
    "\n",
    "#plt.show()\n"
   ]
  },
  {
   "cell_type": "code",
   "execution_count": null,
   "metadata": {},
   "outputs": [],
   "source": []
  }
 ],
 "metadata": {
  "kernelspec": {
   "display_name": "Python 3",
   "language": "python",
   "name": "python3"
  },
  "language_info": {
   "codemirror_mode": {
    "name": "ipython",
    "version": 3
   },
   "file_extension": ".py",
   "mimetype": "text/x-python",
   "name": "python",
   "nbconvert_exporter": "python",
   "pygments_lexer": "ipython3",
   "version": "3.8.5"
  }
 },
 "nbformat": 4,
 "nbformat_minor": 4
}
